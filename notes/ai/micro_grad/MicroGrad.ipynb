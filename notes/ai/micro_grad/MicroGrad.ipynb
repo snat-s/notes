{
 "cells": [
  {
   "cell_type": "markdown",
   "id": "ce5c686c-107a-4f76-8c14-953abe0d11ec",
   "metadata": {},
   "source": [
    "# Micrograd"
   ]
  },
  {
   "cell_type": "markdown",
   "id": "ef5850e2-54bc-4727-bc4e-da0c954384ef",
   "metadata": {},
   "source": [
    "Micrograd is a small library made by Andrej Karpathy. This is a reimplementation made by me.\n",
    "I wanted to have a version of Micrograd with a ton of documentation after watching the amazing\n",
    "video made possible by Adrej that [you can view here](https://www.youtube.com/watch?v=VMj-3S1tku0).\n",
    "\n",
    "The code is licensed under the MIT license and you can use it for whatever you want."
   ]
  },
  {
   "cell_type": "code",
   "execution_count": 1,
   "id": "73680d3c-811e-413f-9654-e3ea2e22739b",
   "metadata": {},
   "outputs": [],
   "source": [
    "import numpy as np\n",
    "import pandas as pd\n",
    "import matplotlib.pyplot as plt\n",
    "import seaborn as sns\n",
    "import random\n",
    "import math"
   ]
  },
  {
   "cell_type": "markdown",
   "id": "2525a8d7-135b-46a7-9666-29514413a3d3",
   "metadata": {},
   "source": [
    "# We have to create a datastructure (The Engine)"
   ]
  },
  {
   "cell_type": "markdown",
   "id": "03ce9fa6-6aee-468b-971c-fcaf6452cd40",
   "metadata": {},
   "source": [
    "Creating a new datastructure so our life is easier."
   ]
  },
  {
   "cell_type": "code",
   "execution_count": 2,
   "id": "3f0329db",
   "metadata": {},
   "outputs": [],
   "source": [
    "class Tensor:\n",
    "    def __init__(self, value):\n",
    "        # Create a constructor for the datastructure\n",
    "        self.value = value"
   ]
  },
  {
   "cell_type": "markdown",
   "id": "b19bb6b8",
   "metadata": {},
   "source": [
    "We are going to add a bit more. We are going to make it able to add between the Tensor type and a constant"
   ]
  },
  {
   "cell_type": "code",
   "execution_count": 3,
   "id": "87083d40",
   "metadata": {},
   "outputs": [],
   "source": [
    "class Tensor:\n",
    "    def __init__(self, value):\n",
    "        # Create a constructor for the datastructure\n",
    "        self.value = value\n",
    "    def __add__(self, other): \n",
    "        # self + other\n",
    "        return Tensor(self.value + other.value)"
   ]
  },
  {
   "cell_type": "markdown",
   "id": "edd59cc8",
   "metadata": {},
   "source": [
    "That seems like enough for now. Now we should check what is a gradient.\n",
    "\n",
    "The gradient is a small step forward in the direction of our derivative.\n",
    "\n",
    "But we should have a way to store this information. So we should add this to our class."
   ]
  },
  {
   "cell_type": "code",
   "execution_count": 4,
   "id": "192116cf",
   "metadata": {},
   "outputs": [],
   "source": [
    "class Tensor:\n",
    "    def __init__(self, value):\n",
    "        # Create a constructor for the datastructure\n",
    "        self.value = value\n",
    "        self.grad = 0.0"
   ]
  },
  {
   "cell_type": "markdown",
   "id": "cde67136",
   "metadata": {},
   "source": [
    "And now that we have the possiblity to have a gradient, we should look back at what calculus is."
   ]
  },
  {
   "cell_type": "markdown",
   "id": "719c4902",
   "metadata": {},
   "source": [
    "# Looking at you Calculus!\n",
    "\n",
    "So we need can look at the definition of a derivative\n",
    "\n",
    "$$x = \\lim_{\\Delta x \\rightarrow 0} \\frac{f(a+\\Delta x)-f(a)}{\\Delta x}$$\n",
    "\n",
    "This did not tell me anything at first. So let's do an example.\n",
    "\n",
    "For example. If we have a value $a = 3.0$ and a value $b=0.5$ we can get their derivatives with respect to each other.\n",
    "\n",
    "So we can see the derivatives with respect to each other if we add them. We are going to name the result of this operation $c$\n",
    "\n",
    "$$c = a+b$$\n",
    "\n",
    "And now we can get the derivative with respect to $a$ and the derivative with respect to $b$.\n",
    "\n",
    "So we are going to do a _limit_. This might seem scary but what the thing above is telling us is just to add a really small amount to see if it works.\n",
    "\n",
    "So we are going to say: $\\Delta x = 0.0001$\n",
    "\n",
    "We have our $c1$ that is the value of $3.5$ and we increment the value of a by $0.0001$ so we get $c2 = 3.0001 + 0.5 = 3.5001$ and we can evaluate this value in\n",
    "the derivative:\n",
    "\n",
    "$$\\frac{c2-c1}{\\Delta x} = \\frac{ 3.5001-3.5}{0.0001} = \\frac{0.0001}{0.0001} = 1$$"
   ]
  },
  {
   "cell_type": "markdown",
   "id": "e3943005-d0b5-42a9-968f-91c08913d587",
   "metadata": {},
   "source": [
    "Now we can do the same but for other operations"
   ]
  },
  {
   "cell_type": "code",
   "execution_count": 5,
   "id": "cbc0fd75-4178-4373-83a7-67a54f59ed3f",
   "metadata": {},
   "outputs": [
    {
     "data": {
      "text/plain": [
       "4.5"
      ]
     },
     "execution_count": 5,
     "metadata": {},
     "output_type": "execute_result"
    }
   ],
   "source": [
    "a = 3.0\n",
    "b = 1.5\n",
    "h = 0.0001\n",
    "\n",
    "c1 = a*b\n",
    "c1"
   ]
  },
  {
   "cell_type": "markdown",
   "id": "d382dd97-3e26-4d1c-91ac-f396d40e6cbf",
   "metadata": {},
   "source": [
    "We can see the difference in the slope by going through the same process we did with the adition."
   ]
  },
  {
   "cell_type": "code",
   "execution_count": 6,
   "id": "c4ac241e-f82e-4bae-aa35-278db40e6f52",
   "metadata": {},
   "outputs": [
    {
     "data": {
      "text/plain": [
       "1.500000000005386"
      ]
     },
     "execution_count": 6,
     "metadata": {},
     "output_type": "execute_result"
    }
   ],
   "source": [
    "a += h\n",
    "b = 1.5\n",
    "\n",
    "c2 = a*b\n",
    "derivative = (c2-c1)/h\n",
    "derivative"
   ]
  },
  {
   "cell_type": "markdown",
   "id": "0e2b88f9-f688-4933-af36-b4fe4c595e4b",
   "metadata": {},
   "source": [
    "And for the derivative of b with respect to a we can see the following."
   ]
  },
  {
   "cell_type": "code",
   "execution_count": 7,
   "id": "8cd81973-501c-4175-9bdb-413aa665d3e4",
   "metadata": {},
   "outputs": [
    {
     "data": {
      "text/plain": [
       "3.00000000000189"
      ]
     },
     "execution_count": 7,
     "metadata": {},
     "output_type": "execute_result"
    }
   ],
   "source": [
    "a = 3.0\n",
    "b = 1.5\n",
    "h = 0.0001\n",
    "\n",
    "c1 = a*b\n",
    "b += h\n",
    "c2 = a*b\n",
    "\n",
    "(c2-c1)/h"
   ]
  },
  {
   "cell_type": "markdown",
   "id": "a85a8527-b677-407c-ad27-4791a4ab4ee1",
   "metadata": {},
   "source": [
    "We can see that the values of the derivatives for $a$ and $b$ swap in the derivative. \n",
    "So we can modify our Tensor class to store the gradients of this operations."
   ]
  },
  {
   "cell_type": "markdown",
   "id": "38e575c5-6dfb-48c5-b7c4-1a3a369db0a5",
   "metadata": {},
   "source": [
    "# The Full Engine"
   ]
  },
  {
   "cell_type": "code",
   "execution_count": 8,
   "id": "4e7590be-27b7-46c1-9a07-b8bc91cb0536",
   "metadata": {},
   "outputs": [],
   "source": [
    "class Tensor:\n",
    "    \"\"\"\n",
    "        Stores a single value.\n",
    "    \"\"\"\n",
    "    def __init__(self, value, _children=(), _operation=\"\"):\n",
    "        # Create a constructor for the datastructure\n",
    "        self.value = value\n",
    "        self.gradient = 0.0\n",
    "        \n",
    "        # Internal variables\n",
    "        self._prev = set(_children)\n",
    "        self._backward = lambda: None\n",
    "        \n",
    "        # Debugging\n",
    "        self._operation = _operation\n",
    "        \n",
    "    def __add__(self, other):\n",
    "        # self + other\n",
    "        other = other if isinstance(other, Tensor) else Tensor(other)\n",
    "        output = Tensor(self.value + other.value, (self, other), '+')\n",
    "        \n",
    "        def _backward():\n",
    "            self.gradient += output.gradient\n",
    "            other.gradient += output.gradient\n",
    "        output._backward = _backward\n",
    "        \n",
    "        return output\n",
    "    \n",
    "    def __radd__(self, other):\n",
    "        return self + other\n",
    "    \n",
    "    def __mul__(self, other):\n",
    "        # self * other\n",
    "        other = other if isinstance(other, Tensor) else Tensor(other)\n",
    "        output = Tensor(self.value * other.value, (self, other), '*')\n",
    "        \n",
    "        def _backward():\n",
    "            # we use the chain rule so that is why we multiply out.gradient * self and out.grad * other.value\n",
    "            self.gradient += other.value * output.gradient\n",
    "            other.gradient += self.value * output.gradient\n",
    "        output._backward = _backward\n",
    "        \n",
    "        return output\n",
    "    \n",
    "    def __rmul__(self, other):\n",
    "        return self * other\n",
    "    \n",
    "    def __pow__(self, other):\n",
    "        # self ** other\n",
    "        assert isinstance(other, (int, float)), \"only supporting int/float powers for now\"\n",
    "        output = Tensor(self.value ** other, (self,), '^')\n",
    "        \n",
    "        def _backward():\n",
    "            self.gradient += (other*self.value ** (other-1))*output.gradient\n",
    "        \n",
    "        output._backward = _backward\n",
    "        \n",
    "        return output\n",
    "    \n",
    "    def backward(self):\n",
    "        # Topological order of the children in the graph\n",
    "        # Using the dfs version of topological sort\n",
    "        topological_order = []\n",
    "        visited = set()\n",
    "        def build_topo(v):\n",
    "            if v not in visited:\n",
    "                visited.add(v)\n",
    "                for child in v._prev:\n",
    "                    build_topo(child)\n",
    "                topological_order.append(v)\n",
    "        \n",
    "        build_topo(self)\n",
    "        \n",
    "        self.gradient = 1.0\n",
    "        \n",
    "        for v in reversed(topological_order):\n",
    "            v._backward()\n",
    "    \n",
    "    def __neg__(self):\n",
    "        return self*-1\n",
    "    \n",
    "    def __sub__(self, other):\n",
    "        return self + (-other)\n",
    "    \n",
    "    def __rsub__(self, other):\n",
    "        return other + (-self)\n",
    "    \n",
    "    def __truediv__(self, other):\n",
    "        return self * other**-1\n",
    "    \n",
    "    def __rtruediv__(self, other):\n",
    "        return other * self**-1\n",
    "    \n",
    "    def __repr__(self):\n",
    "        # This function returns the value formatted when you print it in jupyterlab\n",
    "        return f\"Tensor=({self.value}, gradient={self.gradient})\"\n",
    "    \n",
    "    # Extra\n",
    "    def tanh(self):\n",
    "        x = self.value\n",
    "        t = (math.exp(2*x) - 1)/(math.exp(2*x) + 1)\n",
    "        out = Tensor(t, (self, ), 'tanh')\n",
    "\n",
    "        def _backward(): \n",
    "            self.gradient += (1 - t**2) * out.gradient\n",
    "        \n",
    "        out._backward = _backward\n",
    "        \n",
    "        return out"
   ]
  },
  {
   "cell_type": "markdown",
   "id": "96adbc56-3a65-4910-85d3-672bd4c0487a",
   "metadata": {},
   "source": [
    "# The nn"
   ]
  },
  {
   "cell_type": "code",
   "execution_count": 12,
   "id": "5c91e2e4-7a02-4306-8bf6-cbdff0e430c6",
   "metadata": {},
   "outputs": [],
   "source": [
    "class Module:\n",
    "    def zero_grad(self):\n",
    "        for p in self.parameters():\n",
    "            p.gradient = 0\n",
    "    def parameters(self):\n",
    "        return []"
   ]
  },
  {
   "cell_type": "code",
   "execution_count": 13,
   "id": "d61edb78-6ef0-4de1-b56b-0e1b19479990",
   "metadata": {},
   "outputs": [],
   "source": [
    "class Neuron:\n",
    "    \"\"\" Class Neuron inherits from Module \"\"\"\n",
    "    \n",
    "    def __init__(self, nin):\n",
    "        # Initialize number in neuron\n",
    "        # Nin --> Number of inputs\n",
    "        self.w = [Tensor(random.uniform(-1,1)) for _ in range(nin)]\n",
    "        self.b = Tensor(0)\n",
    "    \n",
    "    def __call__(self, x):\n",
    "        # w * x +b\n",
    "        act = sum((wi*xi for wi, xi in zip(self.w, x)), self.b)\n",
    "        out = act.tanh()\n",
    "        return out\n",
    "    \n",
    "    def parameters(self):\n",
    "        return self.w + [self.b]"
   ]
  },
  {
   "cell_type": "code",
   "execution_count": 14,
   "id": "55e42b33-6547-4b7d-9366-402d0801a164",
   "metadata": {},
   "outputs": [],
   "source": [
    "class Layer:\n",
    "    def __init__(self, nin, nout):\n",
    "        self.neurons = [Neuron(nin) for _ in range(nout)]\n",
    "    \n",
    "    def __call__(self, x):\n",
    "        outs = [n(x) for n in self.neurons]\n",
    "        return outs[0] if len(outs) == 1 else outs\n",
    "    def parameters(self):\n",
    "        \n",
    "        params = []\n",
    "        for neuron in self.neurons:\n",
    "            ps = neuron.parameters()\n",
    "            params.extend(ps)\n",
    "            \n",
    "        return params"
   ]
  },
  {
   "cell_type": "code",
   "execution_count": 15,
   "id": "935bfb28-de0c-49d6-8b1f-e31e4942f926",
   "metadata": {},
   "outputs": [],
   "source": [
    "class MLP:\n",
    "    \"\"\"\n",
    "        Multi-Layer Perceptron\n",
    "    \"\"\"\n",
    "    def __init__(self, nin, nouts):\n",
    "        sz = [nin] + nouts\n",
    "        self.layers = [Layer(sz[i], sz[i+1]) for i in range(len(nouts))]\n",
    "    \n",
    "    def __call__(self, x):\n",
    "        for layer in self.layers:\n",
    "            x = layer(x)\n",
    "        return x\n",
    "    def parameters(self):\n",
    "        return [p for layer in self.layers for p in layer.parameters()]"
   ]
  },
  {
   "cell_type": "markdown",
   "id": "f83dd8ec-2133-4691-84ab-fb885a00ea6f",
   "metadata": {},
   "source": [
    "# An example"
   ]
  },
  {
   "cell_type": "code",
   "execution_count": 16,
   "id": "3169d539-4115-477f-b929-88faa2bec85a",
   "metadata": {},
   "outputs": [
    {
     "data": {
      "text/plain": [
       "Tensor=(-0.1287955604443376, gradient=0.0)"
      ]
     },
     "execution_count": 16,
     "metadata": {},
     "output_type": "execute_result"
    }
   ],
   "source": [
    "x = [2.0, 3.0, -1.0]\n",
    "n = MLP(3, [4,4,1])\n",
    "n(x)"
   ]
  },
  {
   "cell_type": "code",
   "execution_count": 17,
   "id": "a72ad317-39a1-478c-b559-80041f8dba28",
   "metadata": {},
   "outputs": [],
   "source": [
    "xs = [\n",
    "    [2.0, 3.0, -1.0],\n",
    "    [3.0, -1.0, 0.5],\n",
    "    [0.5, 1.0, 1.0],\n",
    "    [1.0, 1.0, -1.0]\n",
    "]\n",
    "ys = [1.0, -1.0, -1.0, 1.0] # desired targets"
   ]
  },
  {
   "cell_type": "markdown",
   "id": "2065b6d0-c49a-40bf-9898-6b5c1f032810",
   "metadata": {},
   "source": [
    "Creating a metric function. In this case we use the mean squared error function"
   ]
  },
  {
   "cell_type": "markdown",
   "id": "27a21d6d-8557-48ab-9517-fc220078c152",
   "metadata": {},
   "source": [
    "## Gradient Descent"
   ]
  },
  {
   "cell_type": "code",
   "execution_count": 18,
   "id": "c97711e9-e48b-41ff-9480-578ae537df63",
   "metadata": {},
   "outputs": [
    {
     "name": "stdout",
     "output_type": "stream",
     "text": [
      "0 3.6461118424965435\n",
      "1 2.1992116474110746\n",
      "2 1.527268058818012\n",
      "3 0.8253180411028479\n",
      "4 0.40729347993046133\n",
      "5 0.24480034340777723\n",
      "6 0.17218984478699947\n",
      "7 0.13184120295831725\n",
      "8 0.1061546958093535\n",
      "9 0.08847664212460303\n",
      "10 0.07562214221526461\n",
      "11 0.06588452062362513\n",
      "12 0.05827078639381458\n",
      "13 0.052165700093168815\n",
      "14 0.047168659872599494\n",
      "15 0.04300810479948695\n",
      "16 0.039493711891586084\n",
      "17 0.0364883006996128\n",
      "18 0.033890600113030425\n",
      "19 0.03162428737994592\n"
     ]
    }
   ],
   "source": [
    "for k in range(20):\n",
    "    # forward pass\n",
    "    ypred = [n(x) for x in xs]\n",
    "    loss = sum((yout-ygt)**2 for ygt, yout in zip(ys, ypred))\n",
    "\n",
    "    \n",
    "    # zero grad\n",
    "    for p in n.parameters():\n",
    "        p.gradient = 0.0\n",
    "        \n",
    "    # backward pass    \n",
    "    loss.backward()\n",
    "    \n",
    "    # update\n",
    "    for p in n.parameters():\n",
    "        p.value += -0.05*p.gradient\n",
    "    \n",
    "    print(k, loss.value)"
   ]
  },
  {
   "cell_type": "code",
   "execution_count": 19,
   "id": "c7dfbf35-ec0d-49b0-8a8f-d35d89b34edf",
   "metadata": {},
   "outputs": [
    {
     "data": {
      "text/plain": [
       "[Tensor=(0.9376107822235494, gradient=-0.12477843555290113),\n",
       " Tensor=(-0.9612476093889457, gradient=0.07750478122210858),\n",
       " Tensor=(-0.88266676867396, gradient=0.23466646265208002),\n",
       " Tensor=(0.8883620228877879, gradient=-0.22327595422442426)]"
      ]
     },
     "execution_count": 19,
     "metadata": {},
     "output_type": "execute_result"
    }
   ],
   "source": [
    "ypred"
   ]
  },
  {
   "cell_type": "markdown",
   "id": "88895fd1-fa20-426b-a201-cb8e6ccaf1ac",
   "metadata": {},
   "source": [
    "We almost got the predictions we wanted! That is really cool (do not look at the concept of overfitting obiously)."
   ]
  },
  {
   "cell_type": "markdown",
   "id": "00ebd62e-7e37-468b-bb2a-285d5de8a306",
   "metadata": {},
   "source": [
    "# A bigger example"
   ]
  },
  {
   "cell_type": "markdown",
   "id": "f4e4f40e-60ee-41fa-ab02-4d152e9f0039",
   "metadata": {},
   "source": [
    "**TODO**: Actually make this work. I went through the demo they have in micrograd. But wanted to implement something else. So This is the general structure but it has a lot of bugs.\n",
    "\n",
    "I wanted to use the iris dataset as a bigger example than the one given in the class. I think it is relatively simple to classify and at the same time it is really visually apparent in the way it works."
   ]
  },
  {
   "cell_type": "code",
   "execution_count": 20,
   "id": "98cebd45-47b2-46b1-99ce-017c2d14a24b",
   "metadata": {},
   "outputs": [],
   "source": [
    "from sklearn import datasets\n",
    "\n",
    "X, y = datasets.load_breast_cancer(return_X_y=True)"
   ]
  },
  {
   "cell_type": "code",
   "execution_count": 21,
   "id": "ff26e8cb-12b6-4f69-92dd-498e7a5aa022",
   "metadata": {},
   "outputs": [
    {
     "name": "stderr",
     "output_type": "stream",
     "text": [
      "/mnt/data/anaconda3/lib/python3.9/site-packages/seaborn/_decorators.py:36: FutureWarning: Pass the following variables as keyword args: x, y. From version 0.12, the only valid positional argument will be `data`, and passing other arguments without an explicit keyword will result in an error or misinterpretation.\n",
      "  warnings.warn(\n"
     ]
    },
    {
     "data": {
      "text/plain": [
       "<AxesSubplot:>"
      ]
     },
     "execution_count": 21,
     "metadata": {},
     "output_type": "execute_result"
    },
    {
     "data": {
      "image/png": "[encoded data removed]",
      "text/plain": [
       "<Figure size 432x288 with 1 Axes>"
      ]
     },
     "metadata": {
      "needs_background": "light"
     },
     "output_type": "display_data"
    }
   ],
   "source": [
    "# TODO: Graph the data\n",
    "sns.scatterplot(X[:,0], X[:,2], hue=y)"
   ]
  },
  {
   "cell_type": "markdown",
   "id": "e569525e-5392-4bd2-b051-31dadf468b1f",
   "metadata": {},
   "source": [
    "Create a Multi layer perceptron of two layers of ten neurons each and a single output."
   ]
  },
  {
   "cell_type": "code",
   "execution_count": 22,
   "id": "364b5809-0b26-4148-98e2-9243506c89b1",
   "metadata": {},
   "outputs": [
    {
     "name": "stdout",
     "output_type": "stream",
     "text": [
      "Number of parameters: 151\n"
     ]
    }
   ],
   "source": [
    "model = MLP(2, [10, 10, 1])\n",
    "print(\"Number of parameters:\", len(model.parameters()))"
   ]
  },
  {
   "cell_type": "code",
   "execution_count": 23,
   "id": "518c214c-2896-4f95-9a5e-003cf1faf09e",
   "metadata": {},
   "outputs": [
    {
     "name": "stdout",
     "output_type": "stream",
     "text": [
      "Tensor=(1062.0059237090663, gradient=0.0)\n"
     ]
    }
   ],
   "source": [
    "def loss(batch_size=None):\n",
    "    \n",
    "    if batch_size is None:\n",
    "        Xb, yb = X, y\n",
    "    else:\n",
    "        ri = np.random.permutation(X.shape[0])[:batch_size]\n",
    "        Xb, yb = X[ri], y[ri]\n",
    "    inputs = [list(map(Tensor, xrow)) for xrow in Xb]\n",
    "    \n",
    "    # get scores\n",
    "    scores = list(map(model, inputs))\n",
    "    \n",
    "    # We are scoring based on mse\n",
    "    current_loss = sum((scorei-yi)**2 for yi, scorei in zip(yb, scores))\n",
    "    \n",
    "    # L2 regularization\n",
    "    alpha = 1e-4\n",
    "    reg_loss = alpha * sum((p*p for p in model.parameters()))\n",
    "    \n",
    "    return current_loss\n",
    "current_loss = loss()\n",
    "print(current_loss)"
   ]
  },
  {
   "cell_type": "code",
   "execution_count": 24,
   "id": "88bdf669-6343-466d-b366-251a20c4e663",
   "metadata": {},
   "outputs": [
    {
     "name": "stdout",
     "output_type": "stream",
     "text": [
      "step 0 loss 1062.0059237090663\n",
      "step 10 loss 212.0\n",
      "step 20 loss 212.0\n",
      "step 30 loss 212.0\n",
      "step 40 loss 212.0\n",
      "step 50 loss 212.0\n",
      "step 60 loss 212.0\n",
      "step 70 loss 212.0\n",
      "step 80 loss 212.0\n",
      "step 90 loss 212.0\n"
     ]
    }
   ],
   "source": [
    "# Optimization\n",
    "for k in range(100):\n",
    "    # forward pass\n",
    "    current_loss = loss()\n",
    "    \n",
    "    # zero grad\n",
    "    for p in model.parameters():\n",
    "        p.gradient = 0.0\n",
    "        \n",
    "    # backward pass    \n",
    "    current_loss.backward()\n",
    "    \n",
    "    # update Stochastic Gradient descent\n",
    "    learning_rate = 0.01 # maybe change to other thing later\n",
    "    for p in model.parameters():\n",
    "        p.value -= learning_rate*p.gradient\n",
    "    \n",
    "    if k%10 == 0:\n",
    "        print(f\"step {k} loss {current_loss.value}\")"
   ]
  },
  {
   "cell_type": "code",
   "execution_count": 30,
   "id": "7c7417f4-429b-4ff0-ac48-a1eb199b5a6e",
   "metadata": {},
   "outputs": [],
   "source": [
    "inputs = [list(map(Tensor, xrow)) for xrow in X]"
   ]
  },
  {
   "cell_type": "code",
   "execution_count": 31,
   "id": "8601c9e2-f459-4d43-88db-9ad4dbeceb4b",
   "metadata": {},
   "outputs": [],
   "source": [
    "preds = list(map(model, inputs))"
   ]
  },
  {
   "cell_type": "code",
   "execution_count": 32,
   "id": "5bb16b4b-49dc-4c45-aa2e-2a9586a67380",
   "metadata": {},
   "outputs": [],
   "source": [
    "preds = [pred.value for pred in preds]"
   ]
  }
 ],
 "metadata": {
  "kernelspec": {
   "display_name": "Python 3 (ipykernel)",
   "language": "python",
   "name": "python3"
  },
  "language_info": {
   "codemirror_mode": {
    "name": "ipython",
    "version": 3
   },
   "file_extension": ".py",
   "mimetype": "text/x-python",
   "name": "python",
   "nbconvert_exporter": "python",
   "pygments_lexer": "ipython3",
   "version": "3.9.12"
  }
 },
 "nbformat": 4,
 "nbformat_minor": 5
}
